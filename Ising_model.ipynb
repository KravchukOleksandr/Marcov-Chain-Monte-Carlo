{
 "cells": [
  {
   "cell_type": "code",
   "execution_count": 11,
   "metadata": {},
   "outputs": [],
   "source": [
    "import numpy as np\n",
    "from numpy.random import choice\n",
    "from numpy.random import randint\n",
    "from numpy.random import rand\n",
    "import matplotlib.pyplot as plt"
   ]
  },
  {
   "cell_type": "markdown",
   "metadata": {},
   "source": [
    "The Ising model is used to simulate ferromagnetism using Metropolis-Hastings algorithm.  The model consists of a crystal structure where each element is assigned a spin value of +1 or -1. In each iteration the spin of one random element can be changed.\n",
    "In fact, model has Hibbs distribution:\n",
    "$$ \\pi_{\\vec{\\sigma}} = \\frac{e^{-\\beta E(\\vec{\\sigma})}}{\\sum_{\\vec{\\sigma'}} e^{-\\beta E(\\vec{\\sigma'})}} $$\n",
    "where σ is the vector of all spins, E is an energy of such configuration and β is 1/T, T - temperature.\n",
    "But it is very computationally expensive to count such a sum in the denominator. The algorithm is able to simulate this without calculating the sum.  \n",
    "Here is ​the algorithm:\n",
    "1) Create a random spin matrix\n",
    "2) Choose a random element of the matrix\n",
    "3) Calculate a probability of assigning positive spin to the element (i~k means i and k are neighbors)\n",
    "$$P(\\sigma_k = +1 | \\vec{\\sigma_{-k}}) = \\frac{1}{1 + e^{-2\\beta\\sum_{i\\sim k}\\sigma_i}}$$\n",
    "4) Generate u from Uniform distribution on [0, 1]. If u <= P(...), then element's spin will be +1, else -1.\n",
    "5) Repeat steps 2 - 4 k times."
   ]
  },
  {
   "cell_type": "code",
   "execution_count": 12,
   "metadata": {},
   "outputs": [],
   "source": [
    "# Each element of the crystal structure is assigned a random spin value (+1, -1).\n",
    "def spin_initialization(n):\n",
    "    spins = np.empty((n, n)).astype(int)\n",
    "    for i in range(n):\n",
    "        for j in range(n):\n",
    "            spins[i, j] = choice([1, -1])\n",
    "    return spins\n",
    "\n",
    "\n",
    "# Calculate the evolution of crystal structure spin values.\n",
    "def crystal_struct_evolution(spins_initial, n, iter_number, betta):\n",
    "    spins = spins_initial.copy()\n",
    "    for i in range(iter_number):\n",
    "        k = choose_random_element(spins)\n",
    "        p_positive_spin = p_sigma_k(spins, n, k, betta)\n",
    "        u = rand()\n",
    "        if u < p_positive_spin:\n",
    "            spins[k[0], k[1]] = 1\n",
    "        else:\n",
    "            spins[k[0], k[1]] = -1\n",
    "    return spins\n",
    "\n",
    "\n",
    "# Choose random element of the crystal structure.\n",
    "def choose_random_element(spins):\n",
    "    rows, cols = spins.shape[0], spins.shape[1]\n",
    "    rand_row_ind, rand_col_ind = randint(0, rows), randint(0, cols)\n",
    "    return rand_row_ind, rand_col_ind\n",
    "\n",
    "# Count the element's probability to obtain positive spin.\n",
    "def p_sigma_k(spins, n, k, betta):\n",
    "    energy_diff = 0\n",
    "    if k[0] + 1 < n:\n",
    "        energy_diff = energy_diff + spins[k[0] + 1, k[1]]\n",
    "    if k[0] - 1 >= 0:\n",
    "        energy_diff = energy_diff + spins[k[0] - 1, k[1]]\n",
    "    if k[1] + 1 < n:\n",
    "        energy_diff = energy_diff + spins[k[0], k[1] + 1]\n",
    "    if k[1] - 1 >= 0:\n",
    "        energy_diff = energy_diff + spins[k[0], k[1] - 1]\n",
    "    energy_diff = -2 * energy_diff\n",
    "    p_positive_spin = 1 / (1 + np.exp(betta * energy_diff))\n",
    "    return p_positive_spin"
   ]
  },
  {
   "cell_type": "code",
   "execution_count": 13,
   "metadata": {},
   "outputs": [],
   "source": [
    "# Convert the matrix to binary so it can be easily displayed.\n",
    "def spin_to_bool(spins):\n",
    "    return (spins + 1) / 2"
   ]
  },
  {
   "cell_type": "markdown",
   "metadata": {},
   "source": [
    "The crystal structure will consist of 70x70 elements with betta from the array [0.441, 0.8, -1.2]. There will be 100000 iterations.  \n",
    "If beta is greater than 0.441, the system looks magnetized; if it is smaller, it looks chaotic."
   ]
  },
  {
   "cell_type": "code",
   "execution_count": 14,
   "metadata": {},
   "outputs": [],
   "source": [
    "n = 70\n",
    "betta = [0.441, 0.8, -1.2]\n",
    "iter_number = 100000\n",
    "\n",
    "spins = spin_initialization(n)\n",
    "spins0 = crystal_struct_evolution(spins, n, iter_number, betta[0])\n",
    "spins1 = crystal_struct_evolution(spins, n, iter_number, betta[1])\n",
    "spins2 = crystal_struct_evolution(spins, n, iter_number, betta[2])"
   ]
  },
  {
   "cell_type": "code",
   "execution_count": 15,
   "metadata": {},
   "outputs": [
    {
     "data": {
      "text/plain": [
       "(-0.5, 69.5, 69.5, -0.5)"
      ]
     },
     "execution_count": 15,
     "metadata": {},
     "output_type": "execute_result"
    },
    {
     "data": {
      "image/png": "[encoded data removed]",
      "text/plain": [
       "<Figure size 1000x1000 with 4 Axes>"
      ]
     },
     "metadata": {},
     "output_type": "display_data"
    }
   ],
   "source": [
    "plt.rcParams['figure.figsize'] = [10, 10]\n",
    "plt.subplot(2, 2, 1), plt.imshow(spin_to_bool(spins), cmap='gray')\n",
    "plt.title('Initial state', fontsize=12)\n",
    "plt.axis('off')\n",
    "plt.subplot(2, 2, 2), plt.imshow(spin_to_bool(spins0), cmap='gray')\n",
    "plt.title(f'β = {betta[0]}', fontsize=12)\n",
    "plt.axis('off')\n",
    "plt.subplot(2, 2, 3), plt.imshow(spin_to_bool(spins1), cmap='gray')\n",
    "plt.title(f'β = {betta[1]}', fontsize=12)\n",
    "plt.axis('off')\n",
    "plt.subplot(2, 2, 4), plt.imshow(spin_to_bool(spins2), cmap='gray')\n",
    "plt.title(f'β = {betta[2]}', fontsize=12)\n",
    "plt.axis('off')"
   ]
  },
  {
   "cell_type": "markdown",
   "metadata": {},
   "source": [
    "With beta equal to 0.8 we can see magnetized areas."
   ]
  }
 ],
 "metadata": {
  "kernelspec": {
   "display_name": "Python 3",
   "language": "python",
   "name": "python3"
  },
  "language_info": {
   "codemirror_mode": {
    "name": "ipython",
    "version": 3
   },
   "file_extension": ".py",
   "mimetype": "text/x-python",
   "name": "python",
   "nbconvert_exporter": "python",
   "pygments_lexer": "ipython3",
   "version": "3.11.4"
  }
 },
 "nbformat": 4,
 "nbformat_minor": 2
}
